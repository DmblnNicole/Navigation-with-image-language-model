{
 "cells": [
  {
   "cell_type": "code",
   "execution_count": 3,
   "metadata": {},
   "outputs": [
    {
     "name": "stderr",
     "output_type": "stream",
     "text": [
      "/opt/conda/envs/plr/lib/python3.9/site-packages/tqdm/auto.py:21: TqdmWarning: IProgress not found. Please update jupyter and ipywidgets. See https://ipywidgets.readthedocs.io/en/stable/user_install.html\n",
      "  from .autonotebook import tqdm as notebook_tqdm\n"
     ]
    }
   ],
   "source": [
    "from io import BytesIO\n",
    "import requests\n",
    "import PIL\n",
    "from PIL import Image\n",
    "import numpy as np\n",
    "import os\n",
    "import uuid\n",
    "import torch\n",
    "from torch import autocast\n",
    "import cv2\n",
    "from matplotlib import pyplot as plt\n",
    "from torchvision import transforms\n",
    "\n",
    "from clipseg.models.clipseg import CLIPDensePredT\n",
    "import clip\n",
    "\n",
    "from diffusers import DiffusionPipeline\n",
    "\n",
    "import sys\n",
    "from pathlib import Path"
   ]
  },
  {
   "cell_type": "code",
   "execution_count": 4,
   "metadata": {},
   "outputs": [
    {
     "name": "stdout",
     "output_type": "stream",
     "text": [
      "cuda\n"
     ]
    },
    {
     "name": "stderr",
     "output_type": "stream",
     "text": [
      "Fetching 15 files: 100%|██████████| 15/15 [00:00<00:00, 122880.00it/s]\n"
     ]
    }
   ],
   "source": [
    "model = CLIPDensePredT(version='ViT-B/16', reduce_dim=64)\n",
    "model.eval()\n",
    "model.load_state_dict(torch.load('weights/rd64-uni.pth', map_location=torch.device('cuda')), strict=False)\n",
    "\n",
    "transform = transforms.Compose([\n",
    "      transforms.ToTensor(),\n",
    "      transforms.Normalize(mean=[0.485, 0.456, 0.406], std=[0.229, 0.224, 0.225]),\n",
    "      transforms.Resize((512, 512)),\n",
    "])\n",
    "\n",
    "device = \"cuda\" if torch.cuda.is_available() else \"cpu\"\n",
    "print(device)\n",
    "\n",
    "import transformers\n",
    "pipe = DiffusionPipeline.from_pretrained(\n",
    "    \"runwayml/stable-diffusion-inpainting\",\n",
    "    revision=\"fp16\",\n",
    "    torch_dtype=torch.float16,\n",
    ").to(device)"
   ]
  },
  {
   "cell_type": "code",
   "execution_count": 9,
   "metadata": {},
   "outputs": [],
   "source": [
    "def predict(prompt, image, word_mask):\n",
    "    # Extract mask based off prompt\n",
    "    img = transform(image).unsqueeze(0)\n",
    "    word_masks = [word_mask]\n",
    "    with torch.no_grad():\n",
    "        preds = model(img.repeat(len(word_masks),1,1,1), word_masks)[0]\n",
    "    init_image = image.convert('RGB').resize((512, 512))\n",
    "    filename = f\"{uuid.uuid4()}.png\"\n",
    "    plt.imsave(filename,torch.sigmoid(preds[0][0]))\n",
    "    img2 = cv2.imread(filename)\n",
    "    gray_image = cv2.cvtColor(img2, cv2.COLOR_BGR2GRAY)\n",
    "    (thresh, bw_image) = cv2.threshold(gray_image, 100, 255, cv2.THRESH_BINARY)\n",
    "    cv2.cvtColor(bw_image, cv2.COLOR_BGR2RGB)\n",
    "    mask = Image.fromarray(np.uint8(bw_image)).convert('RGB')\n",
    "    os.remove(filename)\n",
    "\n",
    "    # Prompt SD-Inpainting\n",
    "    if prompt != None:\n",
    "      with autocast(\"cuda\"):\n",
    "        output = pipe(prompt=prompt, image=init_image, mask_image=mask)\n",
    "    else:\n",
    "      output = None\n",
    "\n",
    "    return mask, output, init_image"
   ]
  },
  {
   "cell_type": "code",
   "execution_count": 13,
   "metadata": {},
   "outputs": [],
   "source": [
    "def prompt_clipseg(prompt, image, word_mask):\n",
    "    # Extract mask based off prompt\n",
    "    img = transform(image).unsqueeze(0)\n",
    "    word_masks = [word_mask]\n",
    "    with torch.no_grad():\n",
    "        preds = model(img.repeat(len(word_masks),1,1,1), word_masks)[0]\n",
    "    init_image = image.convert('RGB').resize((512, 512))\n",
    "    filename = f\"{uuid.uuid4()}.png\"\n",
    "    plt.imsave(filename,torch.sigmoid(preds[0][0]))\n",
    "    img2 = cv2.imread(filename)\n",
    "    gray_image = cv2.cvtColor(img2, cv2.COLOR_BGR2GRAY)\n",
    "    (thresh, bw_image) = cv2.threshold(gray_image, 100, 255, cv2.THRESH_BINARY)\n",
    "    cv2.cvtColor(bw_image, cv2.COLOR_BGR2RGB)\n",
    "    mask = Image.fromarray(np.uint8(bw_image)).convert('RGB')\n",
    "    os.remove(filename)\n",
    "    return mask, init_image"
   ]
  },
  {
   "cell_type": "code",
   "execution_count": 16,
   "metadata": {},
   "outputs": [],
   "source": [
    "def prompt_SD_inpainting(prompt, image, clipseg_mask):\n",
    "    # Prompt SD-Inpainting\n",
    "    if prompt != None:\n",
    "      with autocast(\"cuda\"):\n",
    "        output = pipe(prompt=prompt, image=image, mask_image=clipseg_mask)\n",
    "    else:\n",
    "      output = None\n",
    "\n",
    "    return output"
   ]
  },
  {
   "cell_type": "code",
   "execution_count": 17,
   "metadata": {},
   "outputs": [
    {
     "name": "stdout",
     "output_type": "stream",
     "text": [
      "['wide_angle_camera_front_1677756684_627466037.png', 'wide_angle_camera_front_1677756688_627165488.png', 'wide_angle_camera_front_1677756692_626864514.png', 'wide_angle_camera_front_1677756696_625191528.png', 'wide_angle_camera_front_1677756700_622002994.png', 'wide_angle_camera_front_1677756704_624782082.png', 'wide_angle_camera_front_1677756708_611605206.png', 'wide_angle_camera_front_1677756712_607388901.png', 'wide_angle_camera_front_1677756716_605773239.png', 'wide_angle_camera_front_1677756720_602136917.png', 'wide_angle_camera_front_1677756724_591582305.png', 'wide_angle_camera_front_1677756728_599394188.png', 'wide_angle_camera_front_1677756732_598532040.png', 'wide_angle_camera_front_1677756736_599804488.png', 'wide_angle_camera_front_1677756740_586651113.png', 'wide_angle_camera_front_1677756744_586514405.png', 'wide_angle_camera_front_1677756748_585369663.png', 'wide_angle_camera_front_1677756752_584630142.png', 'wide_angle_camera_front_1677756756_584321822.png', 'wide_angle_camera_front_1677756760_583486225.png', 'wide_angle_camera_front_1677756764_583704257.png', 'wide_angle_camera_front_1677756768_583100592.png', 'wide_angle_camera_front_1677756772_583369966.png', 'wide_angle_camera_front_1677756776_585083983.png', 'wide_angle_camera_front_1677756780_583248176.png', 'wide_angle_camera_front_1677756784_583217144.png', 'wide_angle_camera_front_1677756788_581662691.png', 'wide_angle_camera_front_1677756792_581919345.png', 'wide_angle_camera_front_1677756796_581797990.png', 'wide_angle_camera_front_1677756800_581420391.png', 'wide_angle_camera_front_1677756804_581876152.png', 'wide_angle_camera_front_1677756808_581507714.png', 'wide_angle_camera_front_1677756812_581467660.png', 'wide_angle_camera_front_1677756816_581146734.png', 'wide_angle_camera_front_1677756820_582345777.png', 'wide_angle_camera_front_1677756824_580778375.png', 'wide_angle_camera_front_1677756828_580678114.png', 'wide_angle_camera_front_1677756832_580533982.png', 'wide_angle_camera_front_1677756836_579901539.png', 'wide_angle_camera_front_1677756840_579554898.png', 'wide_angle_camera_front_1677756844_579091826.png', 'wide_angle_camera_front_1677756848_577936323.png', 'wide_angle_camera_front_1677756852_579178225.png', 'wide_angle_camera_front_1677756856_577697842.png', 'wide_angle_camera_front_1677756860_577389746.png', 'wide_angle_camera_front_1677756864_579249595.png', 'wide_angle_camera_front_1677756868_580434610.png', 'wide_angle_camera_front_1677756872_578551763.png', 'wide_angle_camera_front_1677756876_577901938.png', 'wide_angle_camera_front_1677756880_578366719.png', 'wide_angle_camera_front_1677756884_582465873.png', 'wide_angle_camera_front_1677756888_588699573.png', 'wide_angle_camera_front_1677756892_595631290.png', 'wide_angle_camera_front_1677756896_600356342.png', 'wide_angle_camera_front_1677756900_588386709.png', 'wide_angle_camera_front_1677756904_582037899.png', 'wide_angle_camera_front_1677756908_580493708.png', 'wide_angle_camera_front_1677756912_581633582.png', 'wide_angle_camera_front_1677756916_576285323.png', 'wide_angle_camera_front_1677756920_571381527.png', 'wide_angle_camera_front_1677756924_571286753.png', 'wide_angle_camera_front_1677756928_571095776.png', 'wide_angle_camera_front_1677756932_570856818.png', 'wide_angle_camera_front_1677756936_569892630.png', 'wide_angle_camera_front_1677756940_569793080.png', 'wide_angle_camera_front_1677756944_569428389.png', 'wide_angle_camera_front_1677756948_569731344.png', 'wide_angle_camera_front_1677756952_568632518.png', 'wide_angle_camera_front_1677756956_568887021.png', 'wide_angle_camera_front_1677756960_568812504.png', 'wide_angle_camera_front_1677756964_569769169.png', 'wide_angle_camera_front_1677756968_569218352.png', 'wide_angle_camera_front_1677756972_570433107.png', 'wide_angle_camera_front_1677756976_570751238.png', 'wide_angle_camera_front_1677756980_571501736.png', 'wide_angle_camera_front_1677756984_571612427.png', 'wide_angle_camera_front_1677756984_691576161.png', 'wide_angle_camera_front_1677756988_691784302.png', 'wide_angle_camera_front_1677756992_688781877.png', 'wide_angle_camera_front_1677756996_690368189.png', 'wide_angle_camera_front_1677757000_689041526.png', 'wide_angle_camera_front_1677757004_688434668.png', 'wide_angle_camera_front_1677757008_687308922.png', 'wide_angle_camera_front_1677757012_686200361.png', 'wide_angle_camera_front_1677757016_685085539.png', 'wide_angle_camera_front_1677757020_688673774.png', 'wide_angle_camera_front_1677757024_685848455.png', 'wide_angle_camera_front_1677757028_683720400.png', 'wide_angle_camera_front_1677757032_682797694.png', 'wide_angle_camera_front_1677757036_682736417.png', 'wide_angle_camera_front_1677757040_682940971.png', 'wide_angle_camera_front_1677757044_682762721.png', 'wide_angle_camera_front_1677757048_681006563.png', 'wide_angle_camera_front_1677757052_680072808.png', 'wide_angle_camera_front_1677757056_680027985.png', 'wide_angle_camera_front_1677757060_679478988.png', 'wide_angle_camera_front_1677757064_679201943.png', 'wide_angle_camera_front_1677757068_678575993.png', 'wide_angle_camera_front_1677757072_678031809.png', 'wide_angle_camera_front_1677757076_679355042.png', 'wide_angle_camera_front_1677757080_678409283.png', 'wide_angle_camera_front_1677757084_677968443.png', 'wide_angle_camera_front_1677757088_678019026.png', 'wide_angle_camera_front_1677757092_676448915.png', 'wide_angle_camera_front_1677757096_677314521.png', 'wide_angle_camera_front_1677757100_677320436.png', 'wide_angle_camera_front_1677757104_675850481.png', 'wide_angle_camera_front_1677757108_675056374.png', 'wide_angle_camera_front_1677757112_675613088.png', 'wide_angle_camera_front_1677757116_674806175.png', 'wide_angle_camera_front_1677757120_674287909.png', 'wide_angle_camera_front_1677757124_674429065.png', 'wide_angle_camera_front_1677757128_673539417.png', 'wide_angle_camera_front_1677757132_673802504.png', 'wide_angle_camera_front_1677757136_672819950.png', 'wide_angle_camera_front_1677757140_672168705.png', 'wide_angle_camera_front_1677757144_671422336.png', 'wide_angle_camera_front_1677757148_671734673.png', 'wide_angle_camera_front_1677757152_671047064.png', 'wide_angle_camera_front_1677757156_670471079.png', 'wide_angle_camera_front_1677757160_670197015.png', 'wide_angle_camera_front_1677757164_669349626.png', 'wide_angle_camera_front_1677757168_668518158.png', 'wide_angle_camera_front_1677757172_668485926.png', 'wide_angle_camera_front_1677757176_667942071.png', 'wide_angle_camera_front_1677757180_667471093.png', 'wide_angle_camera_front_1677757184_667246421.png', 'wide_angle_camera_front_1677757188_666869509.png', 'wide_angle_camera_front_1677757192_666637383.png', 'wide_angle_camera_front_1677757196_666268628.png', 'wide_angle_camera_front_1677757200_665743871.png', 'wide_angle_camera_front_1677757204_665599773.png', 'wide_angle_camera_front_1677757208_665289291.png', 'wide_angle_camera_front_1677757212_665576043.png', 'wide_angle_camera_front_1677757216_665220994.png', 'wide_angle_camera_front_1677757220_664783844.png', 'wide_angle_camera_front_1677757224_664054703.png', 'wide_angle_camera_front_1677757228_663726678.png', 'wide_angle_camera_front_1677757232_663619309.png', 'wide_angle_camera_front_1677757236_663232906.png', 'wide_angle_camera_front_1677757240_663015553.png', 'wide_angle_camera_front_1677757244_662756421.png', 'wide_angle_camera_front_1677757248_662449067.png', 'wide_angle_camera_front_1677757252_662223454.png', 'wide_angle_camera_front_1677757256_661874917.png', 'wide_angle_camera_front_1677757260_661328609.png', 'wide_angle_camera_front_1677757264_660897083.png', 'wide_angle_camera_front_1677757268_660793601.png', 'wide_angle_camera_front_1677757272_660794036.png', 'wide_angle_camera_front_1677757276_660521853.png', 'wide_angle_camera_front_1677757280_660108378.png', 'wide_angle_camera_front_1677757284_658906123.png', 'wide_angle_camera_front_1677757288_658356492.png', 'wide_angle_camera_front_1677757292_658425822.png', 'wide_angle_camera_front_1677757296_658586031.png', 'wide_angle_camera_front_1677757300_658443729.png', 'wide_angle_camera_front_1677757304_658183011.png', 'wide_angle_camera_front_1677757308_657427478.png', 'wide_angle_camera_front_1677757312_657211212.png', 'wide_angle_camera_front_1677757316_656750224.png', 'wide_angle_camera_front_1677757320_656322726.png', 'wide_angle_camera_front_1677757324_655829727.png', 'wide_angle_camera_front_1677757328_655291677.png', 'wide_angle_camera_front_1677757332_655068148.png', 'wide_angle_camera_front_1677757336_654373947.png', 'wide_angle_camera_front_1677757340_654208740.png', 'wide_angle_camera_front_1677757344_653681898.png', 'wide_angle_camera_front_1677757348_653452700.png', 'wide_angle_camera_front_1677757352_653174758.png', 'wide_angle_camera_front_1677757356_652677498.png', 'wide_angle_camera_front_1677757360_652629949.png', 'wide_angle_camera_front_1677757364_653434190.png', 'wide_angle_camera_front_1677757368_652573673.png', 'wide_angle_camera_front_1677757372_652169732.png', 'wide_angle_camera_front_1677757376_651914090.png', 'wide_angle_camera_front_1677757380_651782698.png', 'wide_angle_camera_front_1677757384_650967326.png', 'wide_angle_camera_front_1677757388_650106613.png', 'wide_angle_camera_front_1677757392_649869189.png', 'wide_angle_camera_front_1677757396_649934777.png', 'wide_angle_camera_front_1677757400_649806980.png', 'wide_angle_camera_front_1677757404_650535667.png', 'wide_angle_camera_front_1677757408_649258038.png', 'wide_angle_camera_front_1677757412_650365512.png', 'wide_angle_camera_front_1677757416_650496227.png', 'wide_angle_camera_front_1677757420_650448890.png', 'wide_angle_camera_front_1677757424_650380386.png', 'wide_angle_camera_front_1677757428_650440402.png', 'wide_angle_camera_front_1677757432_653119833.png', 'wide_angle_camera_front_1677757436_654827179.png', 'wide_angle_camera_front_1677757440_651933088.png', 'wide_angle_camera_front_1677757444_669530912.png', 'wide_angle_camera_front_1677757448_666904624.png', 'wide_angle_camera_front_1677757452_654447262.png', 'wide_angle_camera_front_1677757456_674038342.png', 'wide_angle_camera_front_1677757460_675663780.png', 'wide_angle_camera_front_1677757464_681726658.png', 'wide_angle_camera_front_1677757468_681367022.png', 'wide_angle_camera_front_1677757472_681147744.png', 'wide_angle_camera_front_1677757476_677547894.png', 'wide_angle_camera_front_1677757480_668442965.png', 'wide_angle_camera_front_1677757484_660339265.png', 'wide_angle_camera_front_1677757488_655693227.png', 'wide_angle_camera_front_1677757492_654793678.png', 'wide_angle_camera_front_1677757496_654364605.png', 'Icon\\r']\n",
      "206\n"
     ]
    }
   ],
   "source": [
    "from PIL import Image\n",
    "import os\n",
    "import matplotlib.pyplot as plt\n",
    "import re\n",
    "\n",
    "path = './hike'\n",
    "files = os.listdir(path)\n",
    "re_pattern = re.compile('.+?(\\d+)\\.([a-zA-Z0-9+])')\n",
    "try:\n",
    "    files = sorted(files, key=lambda x: str(re_pattern.match(x).group()))\n",
    "except AttributeError:\n",
    "    files = sorted(files, key=lambda x: str(re_pattern.match(x)))\n",
    "\n",
    "print(files)\n",
    "\n",
    "N = len(files)\n",
    "road_start_index = 15\n",
    "road_end_index = 16\n",
    "print(N)"
   ]
  },
  {
   "cell_type": "code",
   "execution_count": 29,
   "metadata": {},
   "outputs": [
    {
     "name": "stdout",
     "output_type": "stream",
     "text": [
      "mask : A dull photo of a path through the grass, number : 0\n"
     ]
    },
    {
     "name": "stderr",
     "output_type": "stream",
     "text": [
      "/opt/conda/envs/plr/lib/python3.9/site-packages/torchvision/transforms/functional.py:1603: UserWarning: The default value of the antialias parameter of all the resizing transforms (Resize(), RandomResizedCrop(), etc.) will change from None to True in v0.17, in order to be consistent across the PIL and Tensor backends. To suppress this warning, directly pass antialias=True (recommended, future default), antialias=None (current default, which means False for Tensors and True for PIL), or antialias=False (only works on Tensors - PIL will still use antialiasing). This also applies if you are using the inference transforms from the models weights: update the call to weights.transforms(antialias=True).\n",
      "  warnings.warn(\n"
     ]
    },
    {
     "ename": "RuntimeError",
     "evalue": "The size of tensor a (1440) must match the size of tensor b (3) at non-singleton dimension 4",
     "output_type": "error",
     "traceback": [
      "\u001b[0;31m---------------------------------------------------------------------------\u001b[0m",
      "\u001b[0;31mRuntimeError\u001b[0m                              Traceback (most recent call last)",
      "Cell \u001b[0;32mIn[29], line 33\u001b[0m\n\u001b[1;32m     30\u001b[0m       mask[y][x] \u001b[39m=\u001b[39m [\u001b[39m0\u001b[39m,\u001b[39m0\u001b[39m,\u001b[39m0\u001b[39m]\n\u001b[1;32m     32\u001b[0m \u001b[39m# prompt SD inpainting\u001b[39;00m\n\u001b[0;32m---> 33\u001b[0m output \u001b[39m=\u001b[39m prompt_SD_inpainting(prompt\u001b[39m=\u001b[39;49mprompt, image\u001b[39m=\u001b[39;49mimg, clipseg_mask\u001b[39m=\u001b[39;49mmask_path)\n\u001b[1;32m     34\u001b[0m \u001b[39m# prompt clipseg\u001b[39;00m\n\u001b[1;32m     35\u001b[0m masked_image, _ \u001b[39m=\u001b[39m prompt_clipseg(prompt\u001b[39m=\u001b[39m\u001b[39mNone\u001b[39;00m, image\u001b[39m=\u001b[39moutput\u001b[39m.\u001b[39mimages[\u001b[39m0\u001b[39m], word_mask\u001b[39m=\u001b[39mprompt)\n",
      "Cell \u001b[0;32mIn[16], line 5\u001b[0m, in \u001b[0;36mprompt_SD_inpainting\u001b[0;34m(prompt, image, clipseg_mask)\u001b[0m\n\u001b[1;32m      3\u001b[0m \u001b[39mif\u001b[39;00m prompt \u001b[39m!=\u001b[39m \u001b[39mNone\u001b[39;00m:\n\u001b[1;32m      4\u001b[0m   \u001b[39mwith\u001b[39;00m autocast(\u001b[39m\"\u001b[39m\u001b[39mcuda\u001b[39m\u001b[39m\"\u001b[39m):\n\u001b[0;32m----> 5\u001b[0m     output \u001b[39m=\u001b[39m pipe(prompt\u001b[39m=\u001b[39;49mprompt, image\u001b[39m=\u001b[39;49mimage, mask_image\u001b[39m=\u001b[39;49mclipseg_mask)\n\u001b[1;32m      6\u001b[0m \u001b[39melse\u001b[39;00m:\n\u001b[1;32m      7\u001b[0m   output \u001b[39m=\u001b[39m \u001b[39mNone\u001b[39;00m\n",
      "File \u001b[0;32m/opt/conda/envs/plr/lib/python3.9/site-packages/torch/utils/_contextlib.py:115\u001b[0m, in \u001b[0;36mcontext_decorator.<locals>.decorate_context\u001b[0;34m(*args, **kwargs)\u001b[0m\n\u001b[1;32m    112\u001b[0m \u001b[39m@functools\u001b[39m\u001b[39m.\u001b[39mwraps(func)\n\u001b[1;32m    113\u001b[0m \u001b[39mdef\u001b[39;00m \u001b[39mdecorate_context\u001b[39m(\u001b[39m*\u001b[39margs, \u001b[39m*\u001b[39m\u001b[39m*\u001b[39mkwargs):\n\u001b[1;32m    114\u001b[0m     \u001b[39mwith\u001b[39;00m ctx_factory():\n\u001b[0;32m--> 115\u001b[0m         \u001b[39mreturn\u001b[39;00m func(\u001b[39m*\u001b[39;49margs, \u001b[39m*\u001b[39;49m\u001b[39m*\u001b[39;49mkwargs)\n",
      "File \u001b[0;32m/opt/conda/envs/plr/lib/python3.9/site-packages/diffusers/pipelines/stable_diffusion/pipeline_stable_diffusion_inpaint.py:744\u001b[0m, in \u001b[0;36mStableDiffusionInpaintPipeline.__call__\u001b[0;34m(self, prompt, image, mask_image, height, width, num_inference_steps, guidance_scale, negative_prompt, num_images_per_prompt, eta, generator, latents, nrompt_embeds, negative_prompt_embeds, output_type, return_dict, callback, callback_steps)\u001b[0m\n\u001b[1;32m    739\u001b[0m prompt_embeds \u001b[39m=\u001b[39m \u001b[39mself\u001b[39m\u001b[39m.\u001b[39m_encode_prompt(\n\u001b[1;32m    740\u001b[0m     prompt, device, num_images_per_prompt, do_classifier_free_guidance, negative_prompt\n\u001b[1;32m    741\u001b[0m )\n\u001b[1;32m    743\u001b[0m \u001b[39m# 4. Preprocess mask and image\u001b[39;00m\n\u001b[0;32m--> 744\u001b[0m mask, masked_image \u001b[39m=\u001b[39m prepare_mask_and_masked_image(image, mask_image)\n\u001b[1;32m    746\u001b[0m \u001b[39m# 5. set timesteps\u001b[39;00m\n\u001b[1;32m    747\u001b[0m \u001b[39mself\u001b[39m\u001b[39m.\u001b[39mscheduler\u001b[39m.\u001b[39mset_timesteps(num_inference_steps, device\u001b[39m=\u001b[39mdevice)\n",
      "File \u001b[0;32m/opt/conda/envs/plr/lib/python3.9/site-packages/diffusers/pipelines/stable_diffusion/pipeline_stable_diffusion_inpaint.py:136\u001b[0m, in \u001b[0;36mprepare_mask_and_masked_image\u001b[0;34m(image, mask)\u001b[0m\n\u001b[1;32m    133\u001b[0m     mask[mask \u001b[39m>\u001b[39m\u001b[39m=\u001b[39m \u001b[39m0.5\u001b[39m] \u001b[39m=\u001b[39m \u001b[39m1\u001b[39m\n\u001b[1;32m    134\u001b[0m     mask \u001b[39m=\u001b[39m torch\u001b[39m.\u001b[39mfrom_numpy(mask)\n\u001b[0;32m--> 136\u001b[0m masked_image \u001b[39m=\u001b[39m image \u001b[39m*\u001b[39;49m (mask \u001b[39m<\u001b[39;49m \u001b[39m0.5\u001b[39;49m)\n\u001b[1;32m    138\u001b[0m \u001b[39mreturn\u001b[39;00m mask, masked_image\n",
      "\u001b[0;31mRuntimeError\u001b[0m: The size of tensor a (1440) must match the size of tensor b (3) at non-singleton dimension 4"
     ]
    },
    {
     "data": {
      "image/png": "[encoded data removed]",
      "text/plain": [
       "<Figure size 1200x1200 with 2 Axes>"
      ]
     },
     "metadata": {},
     "output_type": "display_data"
    }
   ],
   "source": [
    "files = ['wide_angle_camera_front_1677756692_626864514.png']\n",
    "obstacle_word_mask = 'A dull photo of obstacles'\n",
    "prompt = 'A bright picture of a narrow footpath'\n",
    "for i, file in enumerate(files):\n",
    "\n",
    "  if i >= road_start_index and i<=N-road_end_index:\n",
    "    word_mask = 'A dull photo of a road to walk on'\n",
    "  else:\n",
    "    word_mask = 'A dull photo of a path through the grass'\n",
    "  print(f'mask : {word_mask}, number : {i}')\n",
    "  img = Image.open(os.path.join(path,file))\n",
    "\n",
    "  # prompt clipseg\n",
    "  mask_path, init_image = prompt_clipseg(prompt=None, image=img, word_mask=word_mask)\n",
    "  mask_obstacle, _ = prompt_clipseg(prompt=None, image=img, word_mask=obstacle_word_mask)\n",
    "  # add masks\n",
    "  mask_obstacle = np.asarray(mask_obstacle)\n",
    "  mask_path = np.asarray(mask_path)\n",
    "  mask = np.copy(mask_path)\n",
    "  \n",
    "  plt.figure(figsize=(12,12))\n",
    "  plt.subplot(2,1,1)\n",
    "  plt.imshow(np.asarray(mask_obstacle))\n",
    "  plt.subplot(2,1,2)\n",
    "  plt.imshow(mask_path)\n",
    "  \n",
    "  for y, elem in enumerate(mask_obstacle):\n",
    "    for x, elem_ in enumerate(mask_obstacle):\n",
    "      if (mask_path[y][x] == [255,255,255]).all() and (mask_obstacle[y][x] == [255,255,255]).all():\n",
    "        mask[y][x] = [0,0,0]\n",
    "  \n",
    "  # prompt SD inpainting\n",
    "  output = prompt_SD_inpainting(prompt=prompt, image=init_image, clipseg_mask=mask_path)\n",
    "  # prompt clipseg\n",
    "  masked_image, _ = prompt_clipseg(prompt=None, image=output.images[0], word_mask=prompt)\n",
    "  masked_image = cv2.add(np.asarray(init_img), np.asarray(masked_image))\n",
    "\n",
    "  plt.figure(figsize=(12,12))\n",
    "  plt.subplot(2,2,1)\n",
    "  plt.title('Initial Image')\n",
    "  plt.imshow(np.asarray(init_img))\n",
    "  plt.subplot(2,2,2)\n",
    "  plt.title(f'Mask - {word_mask}')\n",
    "  plt.imshow(mask)\n",
    "  plt.subplot(2,2,3)\n",
    "  plt.title(f'SD Output - {prompt}')\n",
    "  plt.imshow(output.images[0])\n",
    "  plt.subplot(2,2,4)\n",
    "  plt.title(f'Masked Image')\n",
    "  plt.imshow(masked_image)\n",
    "  #images_dir = './processed_hike'\n",
    "  #plt.savefig(f\"{images_dir}/{file}\")\n"
   ]
  },
  {
   "cell_type": "code",
   "execution_count": null,
   "metadata": {},
   "outputs": [],
   "source": []
  }
 ],
 "metadata": {
  "kernelspec": {
   "display_name": "plr",
   "language": "python",
   "name": "python3"
  },
  "language_info": {
   "codemirror_mode": {
    "name": "ipython",
    "version": 3
   },
   "file_extension": ".py",
   "mimetype": "text/x-python",
   "name": "python",
   "nbconvert_exporter": "python",
   "pygments_lexer": "ipython3",
   "version": "3.9.16"
  },
  "orig_nbformat": 4
 },
 "nbformat": 4,
 "nbformat_minor": 2
}
